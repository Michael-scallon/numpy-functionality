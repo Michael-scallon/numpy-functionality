{
 "cells": [
  {
   "cell_type": "code",
   "execution_count": null,
   "id": "ef4c98d5",
   "metadata": {},
   "outputs": [],
   "source": [
    "class MyArray():\n",
    "# While a dictonary is has a faster look up time, lists were choosen over them due to personally \n",
    "# being more comfortable using them in an effort to create working code.     \n",
    "    \n",
    "    def __init__(self,array):\n",
    "        self.__setitem__(array)\n",
    "        self.a = []\n",
    "#self.a is used for minimum, maximum and mean       \n",
    "        \n",
    "    def __getitem__(self):\n",
    "        return self.array\n",
    "    def __setitem__(self,value):\n",
    "        self.array = value   \n",
    "    def __repr__(self):\n",
    "        return self.array\n",
    "      \n",
    "    def single(self):\n",
    "        emptylist = []\n",
    "        for i in self.array:\n",
    "            for j in i:\n",
    "                emptylist.append(j)\n",
    "        self.a = emptylist        \n",
    "        return emptylist\n",
    "# this is called in the maximum, minimum and mean methods when dealing with 1d arrays or if no axis is specified.\n",
    "\n",
    "    \n",
    "    def minimum(self,**kwargs):\n",
    "        if \"axis\" in kwargs:\n",
    "            self.a = []\n",
    "            if kwargs[\"axis\"]==1:\n",
    "                for i in self.array:\n",
    "                    abc = i[0]\n",
    "                    for j in i:\n",
    "                        if j < abc:\n",
    "                            abc=j\n",
    "                    self.a.append(abc)\n",
    "                return self.a\n",
    "            elif kwargs[\"axis\"] > 1 or kwargs[\"axis\"] < 0:\n",
    "                print(\"Error, axis 0 or 1 only supported\")\n",
    "            else:            \n",
    "                self.single()\n",
    "                basemin = self.a[0]\n",
    "                for i in self.a:\n",
    "                    if i < basemin:\n",
    "                        basemin = i\n",
    "                return basemin\n",
    "        else:\n",
    "            self.single()\n",
    "            basemin = self.a[0]\n",
    "            for i in self.a:\n",
    "                if i < basemin:\n",
    "                    basemin = i\n",
    "            return basemin        \n",
    "        \n",
    "        \n",
    "    def maximum(self,**kwargs):\n",
    "        if \"axis\" in kwargs:\n",
    "            self.a = []\n",
    "            if kwargs[\"axis\"]==1:\n",
    "                for i in self.array:\n",
    "                    abc = i[0]\n",
    "                    for j in i:\n",
    "                        if j > abc:\n",
    "                            abc=j\n",
    "                    self.a.append(abc)\n",
    "                return self.a\n",
    "            elif kwargs[\"axis\"] > 1 or kwargs[\"axis\"] < 0:\n",
    "                print(\"Error, axis 0 or 1 only supported\")\n",
    "            else:\n",
    "                self.single()\n",
    "                basemax = self.a[0]\n",
    "                for i in self.a:\n",
    "                    if i > basemax:\n",
    "                        basemax = i\n",
    "                return basemax        \n",
    "        else:\n",
    "            self.single()\n",
    "            basemax = self.a[0]\n",
    "            for i in self.a:\n",
    "                if i > basemax:\n",
    "                    basemax = i\n",
    "            return basemax\n",
    "    \n",
    "    \n",
    "    \n",
    "    def mean(self,**kwargs):\n",
    "        if \"axis\" in kwargs:\n",
    "            self.a = []\n",
    "            if kwargs[\"axis\"]==1:\n",
    "                for i in self.array:\n",
    "                    abc = 0\n",
    "                    for j in i:\n",
    "                        abc+=j\n",
    "                    self.a.append(abc/len(i))\n",
    "                return self.a\n",
    "            elif kwargs[\"axis\"] > 1 or kwargs[\"axis\"] < 0:\n",
    "                print(\"Error, axis 0 or 1 only supported\")\n",
    "            else:\n",
    "                self.single()\n",
    "                avg=0\n",
    "                for i in self.a:\n",
    "                    avg +=i\n",
    "                return avg/len(self.a)            \n",
    "        else:\n",
    "            self.single()\n",
    "            avg=0\n",
    "            for i in self.a:\n",
    "                avg +=i\n",
    "            return avg/len(self.a) \n",
    "        \n",
    "#minimum, maximum and mean use nested for loops to go through each of the arrays in 2d \n",
    "#arrays to find the desired answer for each        \n",
    "        \n",
    "        \n",
    "    def copy(self):\n",
    "        newobject = self.array\n",
    "        return newobject\n",
    "\n",
    "    \n",
    "    @classmethod\n",
    "    def zeros(cls, *args):\n",
    "        if len(args)==2:\n",
    "            temp = []\n",
    "            temp3 = []\n",
    "            i = 0\n",
    "            while i < args[0]:\n",
    "                j = 0\n",
    "                while j< args[1]:\n",
    "                    temp += (0,)\n",
    "                    j +=1\n",
    "                    temp3.append(temp)\n",
    "                temp= []\n",
    "                i += 1\n",
    "                return temp3\n",
    "        elif len(args)==1:\n",
    "            temp2=[]\n",
    "            i=0\n",
    "            while i < args[0]:\n",
    "                temp2 += (0,)\n",
    "                i +=1\n",
    "            return(temp2)\n",
    "        else:\n",
    "            print(\"error\")\n",
    "                    \n",
    "    "
   ]
  },
  {
   "cell_type": "code",
   "execution_count": null,
   "id": "4931d56e",
   "metadata": {},
   "outputs": [],
   "source": [
    "apple = MyArray([[1,3,2],[6,4,7]])"
   ]
  },
  {
   "cell_type": "code",
   "execution_count": null,
   "id": "20b54961",
   "metadata": {},
   "outputs": [],
   "source": [
    "apple.__getitem__()[1][1]"
   ]
  },
  {
   "cell_type": "code",
   "execution_count": null,
   "id": "28a05540",
   "metadata": {},
   "outputs": [],
   "source": [
    "apple.__getitem__()[1][1]=8"
   ]
  },
  {
   "cell_type": "code",
   "execution_count": null,
   "id": "7f958f9a",
   "metadata": {},
   "outputs": [],
   "source": [
    "apple.__getitem__()"
   ]
  },
  {
   "cell_type": "code",
   "execution_count": null,
   "id": "b5880e51",
   "metadata": {},
   "outputs": [],
   "source": [
    "apple.__repr__()"
   ]
  },
  {
   "cell_type": "code",
   "execution_count": null,
   "id": "8e92e0f4",
   "metadata": {},
   "outputs": [],
   "source": [
    "apple.minimum()"
   ]
  },
  {
   "cell_type": "code",
   "execution_count": null,
   "id": "7a24c941",
   "metadata": {},
   "outputs": [],
   "source": [
    "apple.__getitem__()"
   ]
  },
  {
   "cell_type": "code",
   "execution_count": null,
   "id": "3a796f9e",
   "metadata": {},
   "outputs": [],
   "source": [
    "apple.minimum(axis = 1)"
   ]
  },
  {
   "cell_type": "code",
   "execution_count": null,
   "id": "c03a6379",
   "metadata": {},
   "outputs": [],
   "source": [
    "apple.minimum(axis=-2)"
   ]
  },
  {
   "cell_type": "code",
   "execution_count": null,
   "id": "09fa7b2c",
   "metadata": {},
   "outputs": [],
   "source": [
    "apple.maximum()"
   ]
  },
  {
   "cell_type": "code",
   "execution_count": null,
   "id": "3e358f54",
   "metadata": {},
   "outputs": [],
   "source": [
    "apple.maximum(axis=1)"
   ]
  },
  {
   "cell_type": "code",
   "execution_count": null,
   "id": "a4c42d2c",
   "metadata": {},
   "outputs": [],
   "source": [
    "apple.maximum(axis=2)"
   ]
  },
  {
   "cell_type": "code",
   "execution_count": null,
   "id": "e19248f0",
   "metadata": {},
   "outputs": [],
   "source": [
    "apple.mean(axis=0)"
   ]
  },
  {
   "cell_type": "code",
   "execution_count": null,
   "id": "8a20c90d",
   "metadata": {},
   "outputs": [],
   "source": [
    "apple.mean(axis=1)"
   ]
  },
  {
   "cell_type": "code",
   "execution_count": null,
   "id": "7c5b691c",
   "metadata": {},
   "outputs": [],
   "source": [
    "apple.mean(axis=2)"
   ]
  },
  {
   "cell_type": "code",
   "execution_count": null,
   "id": "2125e088",
   "metadata": {},
   "outputs": [],
   "source": [
    "orange = apple.copy()"
   ]
  },
  {
   "cell_type": "code",
   "execution_count": null,
   "id": "d9c0a2d3",
   "metadata": {},
   "outputs": [],
   "source": [
    "orange"
   ]
  },
  {
   "cell_type": "code",
   "execution_count": null,
   "id": "5c8cc1d0",
   "metadata": {},
   "outputs": [],
   "source": [
    "orange[1][1]"
   ]
  },
  {
   "cell_type": "code",
   "execution_count": null,
   "id": "9eb2c7a1",
   "metadata": {},
   "outputs": [],
   "source": [
    "orange"
   ]
  },
  {
   "cell_type": "code",
   "execution_count": null,
   "id": "4e213df9",
   "metadata": {},
   "outputs": [],
   "source": [
    "aa = MyArray.zeros()"
   ]
  },
  {
   "cell_type": "code",
   "execution_count": null,
   "id": "964a7f5a",
   "metadata": {},
   "outputs": [],
   "source": [
    "aa"
   ]
  },
  {
   "cell_type": "code",
   "execution_count": null,
   "id": "b58771f0",
   "metadata": {},
   "outputs": [],
   "source": [
    "aa = MyArray.zeros(5)"
   ]
  },
  {
   "cell_type": "code",
   "execution_count": null,
   "id": "8de7d0ee",
   "metadata": {},
   "outputs": [],
   "source": [
    "aa\n"
   ]
  },
  {
   "cell_type": "code",
   "execution_count": null,
   "id": "bccef002",
   "metadata": {},
   "outputs": [],
   "source": [
    "aa = MyArray.zeros(5,5)"
   ]
  },
  {
   "cell_type": "code",
   "execution_count": null,
   "id": "5d4a57a1",
   "metadata": {},
   "outputs": [],
   "source": [
    "aa"
   ]
  },
  {
   "cell_type": "code",
   "execution_count": null,
   "id": "9bc8a877",
   "metadata": {},
   "outputs": [],
   "source": []
  },
  {
   "cell_type": "code",
   "execution_count": null,
   "id": "fc8f218a",
   "metadata": {},
   "outputs": [],
   "source": []
  }
 ],
 "metadata": {
  "kernelspec": {
   "display_name": "Python 3",
   "language": "python",
   "name": "python3"
  },
  "language_info": {
   "codemirror_mode": {
    "name": "ipython",
    "version": 3
   },
   "file_extension": ".py",
   "mimetype": "text/x-python",
   "name": "python",
   "nbconvert_exporter": "python",
   "pygments_lexer": "ipython3",
   "version": "3.8.8"
  }
 },
 "nbformat": 4,
 "nbformat_minor": 5
}
